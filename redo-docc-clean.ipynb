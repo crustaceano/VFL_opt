{
 "cells": [
  {
   "cell_type": "code",
   "execution_count": 1,
   "id": "b8213205-4445-4ceb-b8b3-00f813b234f5",
   "metadata": {},
   "outputs": [],
   "source": [
    "import numpy as np\n",
    "import torch\n",
    "import pandas as pd\n",
    "from sklearn import metrics\n",
    "from matplotlib import pyplot as plt\n",
    "from tqdm import tqdm\n",
    "import math\n",
    "import scipy\n",
    "import random\n",
    "import os\n",
    "import libsvm\n",
    "from libsvm import commonutil\n",
    "from sklearn.linear_model import LinearRegression, Ridge\n",
    "array = np.array\n",
    "scipy.array = np.array"
   ]
  },
  {
   "cell_type": "code",
   "execution_count": 2,
   "id": "6c7919ee-da58-4bf5-8eee-86cf292de4a4",
   "metadata": {},
   "outputs": [],
   "source": [
    "def qq(y):\n",
    "    if y.shape[-1] == 1:\n",
    "        return list(y.reshape(y.shape[:-1]))\n",
    "    return list(y)"
   ]
  },
  {
   "cell_type": "code",
   "execution_count": 3,
   "id": "c910c231-67b2-45c9-a696-c7be62bab93f",
   "metadata": {},
   "outputs": [],
   "source": [
    "seed = 1723\n",
    "\n",
    "random.seed(seed)\n",
    "np.random.seed(seed)\n",
    "os.environ['PYTHONHASHSEED'] = str(seed)\n",
    "\n",
    "torch.manual_seed(seed)\n",
    "torch.cuda.manual_seed(seed)\n",
    "torch.backends.cudnn.deterministic = True\n",
    "\n",
    "eps = 5e-5\n",
    "tol = eps"
   ]
  },
  {
   "cell_type": "code",
   "execution_count": 4,
   "id": "73deb231-a658-4a2d-bcda-365ab7f967d4",
   "metadata": {},
   "outputs": [],
   "source": [
    "def getMatrixLmuW(W):\n",
    "    vals = np.real_if_close(scipy.linalg.eigvals(W.T @ W), tol=eps)\n",
    "    LW = np.max(vals)\n",
    "    muW = np.min(vals[vals > eps])\n",
    "    return np.real_if_close(LW, tol=eps).item(), np.real_if_close(muW, tol=eps).item()"
   ]
  },
  {
   "cell_type": "code",
   "execution_count": 5,
   "id": "392dca48-e38c-4d08-9909-06da8baf44fc",
   "metadata": {},
   "outputs": [],
   "source": [
    "def getMatrixLmuA(Ai):\n",
    "    LA = max(np.max(np.real_if_close(scipy.linalg.eigvals(mat.T @ mat))) for mat in Ai)\n",
    "    S = Ai[0] @ Ai[0].T\n",
    "    for i in range(1, len(Ai)):\n",
    "        S += Ai[i] @ Ai[i].T\n",
    "    S /= n\n",
    "    eigens = np.linalg.eigvals(S)\n",
    "    muA = np.min(eigens[eigens > eps])\n",
    "    return np.real_if_close(LA, tol=eps).item(), np.real_if_close(muA, tol=eps).item()"
   ]
  },
  {
   "cell_type": "code",
   "execution_count": 6,
   "id": "01ab626a-c780-420e-856f-5d03ccd230fc",
   "metadata": {},
   "outputs": [],
   "source": [
    "def mulWp(y):\n",
    "    rho = (np.sqrt(LW) - np.sqrt(muW))**2 / 16\n",
    "    v = (np.sqrt(LW) + np.sqrt(muW)) / 2\n",
    "    d = -v/2\n",
    "    n = int(np.ceil(kW) + 0.5)\n",
    "    p = - W @ y / v\n",
    "    yi = y + p\n",
    "    for i in range(1, n):    \n",
    "        beta = rho/d\n",
    "        d = -(v+beta)\n",
    "        p = (W @ yi + beta * p) / d\n",
    "        yi = yi + p\n",
    "    return y - yi"
   ]
  },
  {
   "cell_type": "code",
   "execution_count": 7,
   "id": "451143f0-7f5d-4462-b177-7c40386dafe5",
   "metadata": {},
   "outputs": [],
   "source": [
    "def grad_G(u):\n",
    "    assert dimx + dimy == u.shape[0]\n",
    "    x, y = u[:dimx, :], u[dimx:, :]\n",
    "    z = r * (A @ x + gamma * mulWp(y) - b)\n",
    "    grad = grad_F(x)\n",
    "    ans = np.concatenate((grad + A.T @ z, gamma * mulWp(z)))\n",
    "    return ans"
   ]
  },
  {
   "cell_type": "code",
   "execution_count": 8,
   "id": "d986e7ad-6079-4a2d-aa85-789555b90616",
   "metadata": {},
   "outputs": [],
   "source": [
    "def K_Chebyshev(u):\n",
    "    assert dimx + dimy == u.shape[0]\n",
    "    x, y = u[:dimx, :].copy(), u[dimx:, :].copy()\n",
    "    rho = (LB - muB)**2 / 16\n",
    "    v = (LB + muB) / 2\n",
    "    d = -v/2\n",
    "    n = int(np.ceil(kB) + 0.5)\n",
    "    q = A @ x + gamma * mulWp(y) - b\n",
    "    p = (-1/v) * np.concatenate((A.T @ q, gamma * mulWp(q)))\n",
    "    ui = u + p\n",
    "    for i in range(1, n):\n",
    "        beta = rho/d\n",
    "        d = -(v + beta)\n",
    "        x, y = ui[:dimx, :].copy(), ui[dimx:, :].copy()\n",
    "        q = A @ x + gamma * mulWp(y) - b\n",
    "        p = (1/d) * np.concatenate((A.T @ q, gamma * mulWp(q))) + beta * p / d\n",
    "        ui = ui + p\n",
    "    return u - ui   "
   ]
  },
  {
   "cell_type": "code",
   "execution_count": 9,
   "id": "1ec325be-eb14-4b85-a549-4f2b4aaf448e",
   "metadata": {},
   "outputs": [],
   "source": [
    "def sampleLmu(f, d, k=1000000):\n",
    "    L = 0\n",
    "    mu = np.inf\n",
    "    for i in range(1, k+1):\n",
    "        x1 = torch.normal(mean=0, std =i / np.sqrt(k), size=(d,1))\n",
    "        x2 = x1 + torch.normal( mean=0,std=0.1, size=(d,1))\n",
    "        with torch.enable_grad():\n",
    "            x1.requires_grad_()\n",
    "            x2.requires_grad_()\n",
    "            fx1 = f(x1)\n",
    "            fx1.backward()\n",
    "            grad = x1.grad[:, 0]\n",
    "        val = f(x2) - fx1 - torch.dot(grad, x2[:, 0] - x1[:, 0])\n",
    "        cf = 2 / ((x2 - x1) ** 2).sum()\n",
    "        mu = min(mu, (val * cf).item())\n",
    "        L = max(L, (val * cf).item())\n",
    "    return L + eps, max(eps, mu - eps)"
   ]
  },
  {
   "cell_type": "code",
   "execution_count": 10,
   "id": "24365ccd-834d-4ca9-a9de-355d6af4b93d",
   "metadata": {},
   "outputs": [],
   "source": [
    "def decomp(x):\n",
    "    try:\n",
    "        g = [decomp(y) for y in x]\n",
    "    except Exception as e:\n",
    "        return 1\n",
    "    if all(x == g[0] for x in g):\n",
    "        return (len(g), g[0])\n",
    "    return g"
   ]
  },
  {
   "cell_type": "code",
   "execution_count": 11,
   "id": "63211c57-6037-4292-81f3-2ed7aed3ade3",
   "metadata": {},
   "outputs": [
    {
     "data": {
      "text/plain": [
       "<torch.autograd.grad_mode.set_grad_enabled at 0x31dfc4e10>"
      ]
     },
     "execution_count": 11,
     "metadata": {},
     "output_type": "execute_result"
    }
   ],
   "source": [
    "torch.set_grad_enabled(False)"
   ]
  },
  {
   "cell_type": "code",
   "execution_count": 12,
   "id": "f0f5139d-3ada-426c-b639-95ce474911a1",
   "metadata": {},
   "outputs": [],
   "source": [
    "LIMIT = 100"
   ]
  },
  {
   "cell_type": "code",
   "execution_count": 13,
   "id": "12074f22-22c9-4351-ab21-8ddf92d60ff4",
   "metadata": {},
   "outputs": [],
   "source": [
    "data = commonutil.svm_read_problem('./mushrooms.txt', return_scipy=True)\n",
    "l = 2 * torch.tensor(data[0][:LIMIT], requires_grad=True) - 3\n",
    "feats = data[1][:LIMIT].toarray()"
   ]
  },
  {
   "cell_type": "code",
   "execution_count": 14,
   "id": "75eb29e9-9f70-4541-9b1a-12256695707a",
   "metadata": {},
   "outputs": [
    {
     "data": {
      "text/plain": [
       "(100, 112)"
      ]
     },
     "execution_count": 14,
     "metadata": {},
     "output_type": "execute_result"
    }
   ],
   "source": [
    "feats.shape"
   ]
  },
  {
   "cell_type": "code",
   "execution_count": 15,
   "id": "84090f38-f241-483e-a17e-af215edd3a09",
   "metadata": {},
   "outputs": [],
   "source": [
    "n = 7\n",
    "m, d_feat = feats.shape"
   ]
  },
  {
   "cell_type": "code",
   "execution_count": 16,
   "id": "07f738ec-3351-4ca9-bc4b-fe6f8488afd9",
   "metadata": {},
   "outputs": [
    {
     "data": {
      "text/plain": [
       "(array([  0,  16,  32,  48,  64,  80,  96, 112]),\n",
       " array([16, 16, 16, 16, 16, 16, 16]))"
      ]
     },
     "execution_count": 16,
     "metadata": {},
     "output_type": "execute_result"
    }
   ],
   "source": [
    "x_sep = np.int64(np.round(np.linspace(0, d_feat, n + 1)))\n",
    "x_sz = np.array([x_sep[i + 1] - x_sep[i] for i in range(n)])\n",
    "x_sep, x_sz"
   ]
  },
  {
   "cell_type": "code",
   "execution_count": 17,
   "id": "2e7fe3cd-67cb-4474-8a31-3c446e8317e1",
   "metadata": {},
   "outputs": [
    {
     "data": {
      "text/plain": [
       "(100, 16)"
      ]
     },
     "execution_count": 17,
     "metadata": {},
     "output_type": "execute_result"
    }
   ],
   "source": [
    "Fi = [feats[:, x_sep[i]:x_sep[i+1]] for i in range(n)]\n",
    "Fi[0].shape"
   ]
  },
  {
   "cell_type": "code",
   "execution_count": 18,
   "id": "9d0bf67a-daac-417a-a42e-af846fcfcd70",
   "metadata": {},
   "outputs": [],
   "source": [
    "Ai = [np.concatenate((Fi[0], -np.eye(m)), axis=1)] + Fi[1:]"
   ]
  },
  {
   "cell_type": "code",
   "execution_count": 19,
   "id": "15e3a731-04be-42a7-a287-ffdc0350fb1d",
   "metadata": {},
   "outputs": [],
   "source": [
    "# We waste compute like we're millionaires :)\n",
    "A = scipy.linalg.block_diag(*Ai)"
   ]
  },
  {
   "cell_type": "code",
   "execution_count": 20,
   "id": "cb5fbade-4484-4f25-9c9b-d7195b5ed172",
   "metadata": {},
   "outputs": [],
   "source": [
    "dimy = m * n\n",
    "dimz = m\n",
    "d = d_feat + dimz\n",
    "dimx = d"
   ]
  },
  {
   "cell_type": "code",
   "execution_count": 21,
   "id": "1d4357ad-8997-40e1-a1f6-967eaff8aa49",
   "metadata": {},
   "outputs": [],
   "source": [
    "def reg_loss(x):\n",
    "    return (x ** 2).sum() * lmbd"
   ]
  },
  {
   "cell_type": "code",
   "execution_count": 22,
   "id": "b53f9e76-bd09-4d1f-ac58-e4e013438823",
   "metadata": {},
   "outputs": [],
   "source": [
    "def label_loss(x):\n",
    "    assert x.shape == l.shape\n",
    "    return ((x - l)**2).sum() / 2"
   ]
  },
  {
   "cell_type": "code",
   "execution_count": 23,
   "id": "281926b1-6d90-42df-9e72-e00013427019",
   "metadata": {},
   "outputs": [],
   "source": [
    "def lazy_label_loss(x):\n",
    "    loss = label_loss(x[x_sep[1]:x_sep[1] + dimz, 0])\n",
    "    return loss"
   ]
  },
  {
   "cell_type": "code",
   "execution_count": 24,
   "id": "66726511-0b01-4609-bd9c-dda7a4ae14f5",
   "metadata": {},
   "outputs": [],
   "source": [
    "def F(x):\n",
    "    reg = reg_loss(x[:x_sep[1], :] ** 2) + reg_loss(x[x_sep[1] + dimz:, :] ** 2)\n",
    "    loss = lazy_label_loss(x)\n",
    "    return reg + loss"
   ]
  },
  {
   "cell_type": "code",
   "execution_count": 25,
   "id": "618fe3c6-5a27-4395-a7b8-d6b84edc4054",
   "metadata": {},
   "outputs": [],
   "source": [
    "def grad_F(x):\n",
    "    with torch.enable_grad():\n",
    "        x = torch.Tensor(x)\n",
    "        x.requires_grad_()\n",
    "        reg = lmbd * ((x[:x_sep[1], :] ** 2).sum() + (x[x_sep[1] + dimz:, :] ** 2).sum())\n",
    "        # print(f'grad_F: z={x[x_sep[1]:x_sep[1] + dimz]}, l={l}')\n",
    "        \n",
    "        loss = ((x[x_sep[1]:x_sep[1] + dimz, 0] - l.detach())**2).sum() / 2\n",
    "        g1 = torch.autograd.grad(reg, x)[0]\n",
    "        g2 = torch.autograd.grad(loss, x)[0]\n",
    "        # print(f'grads: reg={g1}, loss={g2}')\n",
    "        return g1 + g2"
   ]
  },
  {
   "cell_type": "code",
   "execution_count": 26,
   "id": "0aefb78a-45b7-4570-88b4-b938fd097c10",
   "metadata": {},
   "outputs": [
    {
     "name": "stdout",
     "output_type": "stream",
     "text": [
      "[[ 2. -1.  0.  0.  0.  0. -1.]\n",
      " [-1.  2. -1.  0.  0.  0.  0.]\n",
      " [ 0. -1.  2. -1.  0.  0.  0.]\n",
      " [ 0.  0. -1.  2. -1.  0.  0.]\n",
      " [ 0.  0.  0. -1.  2. -1.  0.]\n",
      " [ 0.  0.  0.  0. -1.  2. -1.]\n",
      " [-1.  0.  0.  0.  0. -1.  2.]]\n"
     ]
    }
   ],
   "source": [
    "L = 2 * np.eye(n) - np.eye(n, k=1) - np.eye(n, k=-1)\n",
    "L[0, -1], L[-1, 0] = -1, -1\n",
    "print(L)"
   ]
  },
  {
   "cell_type": "code",
   "execution_count": 27,
   "id": "1984b7de-5c68-4ad1-88da-ee23905423d4",
   "metadata": {},
   "outputs": [],
   "source": [
    "# We waste compute like we're millionaires :) x2\n",
    "W = np.kron(L, np.eye(m))\n",
    "W_small = L.copy()"
   ]
  },
  {
   "cell_type": "code",
   "execution_count": 28,
   "id": "1f46fc6b-687e-42bc-bbb6-80e9c07418ab",
   "metadata": {},
   "outputs": [],
   "source": [
    "# Unused\n",
    "\n",
    "def PositiveLeftRoot(t):\n",
    "    t = np.matrix(t)\n",
    "    n = t.shape[0]\n",
    "    c1, piv, rank, info = scipy.linalg.lapack.dpstrf(t)\n",
    "    c1 = np.triu(c1)\n",
    "    c1[rank:, :] = 0\n",
    "    \n",
    "    P = np.zeros((n, n))\n",
    "    P[piv-1, np.arange(n)] = 1\n",
    "\n",
    "    a1 = t\n",
    "    ww = c1 @ P.T\n",
    "    return ww"
   ]
  },
  {
   "cell_type": "code",
   "execution_count": 29,
   "id": "f853f35a-f571-404c-a14e-b0969a10105a",
   "metadata": {},
   "outputs": [],
   "source": [
    "# Unused\n",
    "\n",
    "def PositiveRightRoot(t):\n",
    "    t = np.matrix(t)\n",
    "    n = t.shape[0]\n",
    "    c1, piv, rank, info = scipy.linalg.lapack.dpstrf(t, lower=1)\n",
    "    c1 = np.tril(c1)\n",
    "    c1[:, rank:] = 0\n",
    "    \n",
    "    P = np.zeros((n, n))\n",
    "    P[piv-1, np.arange(n)] = 1\n",
    "\n",
    "\n",
    "    a1 = t\n",
    "    ww = P @ c1\n",
    "    a2 = ww @ ww.T\n",
    "    return ww"
   ]
  },
  {
   "cell_type": "code",
   "execution_count": 30,
   "id": "5ce0b620-32be-4db7-9489-2a7c62ade820",
   "metadata": {},
   "outputs": [],
   "source": [
    "# Unused\n",
    "\n",
    "def Cpoly(W, l):\n",
    "    W = np.matrix(W)\n",
    "    if l == 0:\n",
    "        return np.eye(W.shape[0])\n",
    "    if l == 1:\n",
    "        return W\n",
    "    return (2 * W) @ (Cpoly(W, l-1)) - Cpoly(W, l-2)"
   ]
  },
  {
   "cell_type": "code",
   "execution_count": 31,
   "id": "85d38525-1640-4af1-8573-d0f0b633a337",
   "metadata": {},
   "outputs": [],
   "source": [
    "# Unused\n",
    "\n",
    "def T(l, t):\n",
    "    return scipy.special.eval_chebyt(l, t)\n",
    "    # return Cpoly(t, l)\n",
    "    t = np.matrix(t)\n",
    "    n = t.shape[0]\n",
    "    c1 = PositiveLeftRoot(t @ t - 1)\n",
    "    # c1 = scipy.linalg.sqrtm(t @ t - 1)\n",
    "    p1 = (t - c1)**l\n",
    "    p2 = (t + c1)**l\n",
    "    return (p1 + p2) / 2"
   ]
  },
  {
   "cell_type": "code",
   "execution_count": 32,
   "id": "285e9699-558c-4b6c-bc47-2e30f79d966d",
   "metadata": {},
   "outputs": [],
   "source": [
    "# Unused 🐳\n",
    "\n",
    "def Poly(M, t):\n",
    "    LM, muM = getMatrixLmuW(M)\n",
    "    LM, muM = LW ** 0.5, muW ** 0.5\n",
    "    l = int(np.ceil(np.sqrt(LM / muM)) + 1.5)\n",
    "    num = T(l, (LM + muM - 2 * t)/(LM - muM))\n",
    "    denom = T(l, (LM + muM)/(LM - muM))\n",
    "    return np.real(np.ones(M.shape[0]) - num / denom)"
   ]
  },
  {
   "cell_type": "code",
   "execution_count": 33,
   "id": "c92f577f-ce92-47f8-b5c7-6b597cb95144",
   "metadata": {},
   "outputs": [],
   "source": [
    "b = np.zeros((LIMIT * n, 1))"
   ]
  },
  {
   "cell_type": "code",
   "execution_count": 34,
   "id": "6d9793c5-be88-46eb-be08-7b3e8386bb69",
   "metadata": {},
   "outputs": [],
   "source": [
    "def HotAlgorithm2(u, uf, z, mu, theta, alpha, tau, ITERS=10**9):\n",
    "    with torch.no_grad():\n",
    "        tqd = tqdm(range(ITERS))\n",
    "        old_u = u\n",
    "        for itr in tqd:\n",
    "            ug = tau * u + (1-tau) * uf\n",
    "            g = grad_G(ug) - alpha * ug\n",
    "            ukp12 = 1/(1 + mu * alpha) * (u - mu * (g + z))\n",
    "            cheb = K_Chebyshev(ukp12)\n",
    "            zkp = z + theta * cheb\n",
    "            ukp = 1/(1 + mu * alpha) * (u - mu * (g + zkp))\n",
    "            # ukp = (u - mu * (g + zkp))\n",
    "            ufkp = ug + 2 * tau / (2 - tau) * (ukp - u)\n",
    "            z = zkp\n",
    "            u = ukp\n",
    "            uf = ufkp\n",
    "            tqd.set_description_str(f'u abs diff log_10: {np.round(np.log10(np.sum((old_u - u)**2)), 3)}')\n",
    "            old_u = u\n",
    "            yield u, uf, z"
   ]
  },
  {
   "cell_type": "code",
   "execution_count": 35,
   "id": "02c8443a-8968-4009-972b-b99564da74b3",
   "metadata": {},
   "outputs": [],
   "source": [
    "def Algorithm2(x, mu, theta, alpha, tau, ITERS=10**9):\n",
    "    with torch.no_grad():\n",
    "        y = np.zeros((m * n, 1))\n",
    "        u = np.concatenate((x, y))\n",
    "        uf = u.copy()\n",
    "        z = np.zeros((d + m * n, 1))\n",
    "        for val in HotAlgorithm2(u, uf, z, mu, theta, alpha, tau, ITERS=ITERS):\n",
    "            yield val"
   ]
  },
  {
   "cell_type": "code",
   "execution_count": 37,
   "id": "398d4408-72b0-458a-b33a-5ba7f6ab63f1",
   "metadata": {},
   "outputs": [
    {
     "ename": "NameError",
     "evalue": "name 'LW' is not defined",
     "output_type": "error",
     "traceback": [
      "\u001b[0;31m---------------------------------------------------------------------------\u001b[0m",
      "\u001b[0;31mNameError\u001b[0m                                 Traceback (most recent call last)",
      "Cell \u001b[0;32mIn[37], line 1\u001b[0m\n\u001b[0;32m----> 1\u001b[0m Wp \u001b[38;5;241m=\u001b[39m mulWp(np\u001b[38;5;241m.\u001b[39meye(W\u001b[38;5;241m.\u001b[39mshape[\u001b[38;5;241m0\u001b[39m]))\n\u001b[1;32m      3\u001b[0m LWp, muWp \u001b[38;5;241m=\u001b[39m (\u001b[38;5;241m19\u001b[39m\u001b[38;5;241m/\u001b[39m\u001b[38;5;241m15\u001b[39m)\u001b[38;5;241m*\u001b[39m\u001b[38;5;241m*\u001b[39m\u001b[38;5;241m2\u001b[39m, (\u001b[38;5;241m11\u001b[39m\u001b[38;5;241m/\u001b[39m\u001b[38;5;241m15\u001b[39m)\u001b[38;5;241m*\u001b[39m\u001b[38;5;241m*\u001b[39m\u001b[38;5;241m2\u001b[39m\n\u001b[1;32m      5\u001b[0m kWp \u001b[38;5;241m=\u001b[39m np\u001b[38;5;241m.\u001b[39msqrt(LWp \u001b[38;5;241m/\u001b[39m muWp)\n",
      "Cell \u001b[0;32mIn[6], line 2\u001b[0m, in \u001b[0;36mmulWp\u001b[0;34m(y)\u001b[0m\n\u001b[1;32m      1\u001b[0m \u001b[38;5;28;01mdef\u001b[39;00m \u001b[38;5;21mmulWp\u001b[39m(y):\n\u001b[0;32m----> 2\u001b[0m     rho \u001b[38;5;241m=\u001b[39m (np\u001b[38;5;241m.\u001b[39msqrt(LW) \u001b[38;5;241m-\u001b[39m np\u001b[38;5;241m.\u001b[39msqrt(muW))\u001b[38;5;241m*\u001b[39m\u001b[38;5;241m*\u001b[39m\u001b[38;5;241m2\u001b[39m \u001b[38;5;241m/\u001b[39m \u001b[38;5;241m16\u001b[39m\n\u001b[1;32m      3\u001b[0m     v \u001b[38;5;241m=\u001b[39m (np\u001b[38;5;241m.\u001b[39msqrt(LW) \u001b[38;5;241m+\u001b[39m np\u001b[38;5;241m.\u001b[39msqrt(muW)) \u001b[38;5;241m/\u001b[39m \u001b[38;5;241m2\u001b[39m\n\u001b[1;32m      4\u001b[0m     d \u001b[38;5;241m=\u001b[39m \u001b[38;5;241m-\u001b[39mv\u001b[38;5;241m/\u001b[39m\u001b[38;5;241m2\u001b[39m\n",
      "\u001b[0;31mNameError\u001b[0m: name 'LW' is not defined"
     ]
    }
   ],
   "source": [
    "Wp = mulWp(np.eye(W.shape[0]))\n",
    "\n",
    "LWp, muWp = (19/15)**2, (11/15)**2\n",
    "\n",
    "kWp = np.sqrt(LWp / muWp)"
   ]
  },
  {
   "cell_type": "code",
   "execution_count": null,
   "id": "ffba743e-7310-4ebc-9923-56f093c15c4b",
   "metadata": {},
   "outputs": [],
   "source": [
    "Lf, muf = sampleLmu(F, n * m + d, k=15)\n",
    "muf /= 2\n",
    "Lf *= 2\n",
    "Lf, muf = 1, 0.02\n",
    "kf = np.sqrt(Lf/muf)"
   ]
  },
  {
   "cell_type": "code",
   "execution_count": null,
   "id": "e02a21d6-1e66-4699-9b4f-81df50d780fc",
   "metadata": {},
   "outputs": [],
   "source": [
    "#########################\n",
    "#########################\n",
    "#########################\n",
    "#########################\n",
    "\n",
    "# ALGO\n",
    "\n",
    "#########################\n",
    "#########################\n",
    "#########################\n",
    "#########################"
   ]
  },
  {
   "cell_type": "code",
   "execution_count": null,
   "id": "2983b3de-ea93-4ddc-af4f-b98b36c68312",
   "metadata": {},
   "outputs": [],
   "source": [
    "lmbd = 0.01\n",
    "Wp = mulWp(np.eye(W.shape[0]))\n",
    "\n",
    "LWp, muWp = (19/15)**2, (11/15)**2\n",
    "\n",
    "kWp = np.sqrt(LWp / muWp)\n",
    "\n",
    "Lf, muf = sampleLmu(F, n * m + d, k=15)\n",
    "muf /= 2\n",
    "Lf *= 2\n",
    "Lf, muf = 1, 0.02\n",
    "kf = np.sqrt(Lf/muf)\n",
    "\n",
    "tau = min(1, 1/2 * np.sqrt(19 / (44 * max(1 + kf, 6))))\n",
    "mu = 1/(4 * tau * max(Lf + muf, 6 * muf))\n",
    "theta = 15/(19 * mu)\n",
    "alpha = muf / 4 * 1.01\n",
    "\n",
    "r = muf / (2 * LA)\n",
    "\n",
    "LA, muA = getMatrixLmuA(Ai)\n",
    "kA = np.sqrt(LA/muA)\n",
    "\n",
    "muB = muA / 2\n",
    "LB = LA + (LA + muA) * LWp / muWp\n",
    "kB = np.sqrt(LB/muB)\n",
    "\n",
    "gamma = np.sqrt((muA + LA) / muWp) # was Wp!\n",
    "\n",
    "###\n",
    "L2 = L.copy()\n",
    "W = np.kron(L2, np.eye(m))\n",
    "W_small = L2.copy()\n",
    "LW, muW = getMatrixLmuW(W_small)\n",
    "kW = np.sqrt(LW/muW)\n",
    "B = np.concatenate((A, gamma * Wp), axis=1)\n",
    "###\n",
    "\n",
    "LW, muW = getMatrixLmuW(W)\n",
    "kW = np.sqrt(LW/muW)\n",
    "\n",
    "B = np.concatenate((A, gamma * Wp), axis=1)\n",
    "\n",
    "\n",
    "x = np.zeros((d,1))\n",
    "ans = Algorithm2(x, mu, theta, alpha, tau, ITERS=300)\n",
    "i = 0\n",
    "pts = []\n",
    "losses = []\n",
    "xs = []\n",
    "\n",
    "for x_val in ans:\n",
    "    x = x_val[0]\n",
    "    xoval = x_val\n",
    "    keffs = np.concatenate((x[:x_sep[1], :], x[x_sep[1] + dimz:-dimy, :]))\n",
    "    nefk = feats @ keffs\n",
    "    pts.append(i)\n",
    "    losses.append(lazy_label_loss(torch.Tensor(x)))\n",
    "    xs.append(x)\n",
    "    i += 1"
   ]
  },
  {
   "cell_type": "code",
   "execution_count": null,
   "id": "2c05268a-d003-4053-b3b3-358f2567ee84",
   "metadata": {},
   "outputs": [],
   "source": [
    "def mop_plot(a, title='Training Loss'):\n",
    "    import matplotlib.pyplot as plt\n",
    "    import numpy as np\n",
    "    \n",
    "    # Convert to numpy array for easier manipulation\n",
    "    steps = np.arange(1, len(a) + 1)\n",
    "    losses = np.array(a)\n",
    "    \n",
    "    # Create figure with two subplots\n",
    "    plt.figure(figsize=(12, 5))\n",
    "    \n",
    "    # Normal scale plot\n",
    "    plt.subplot(1, 2, 1)\n",
    "    plt.plot(steps, losses, 'b-', marker='.', label=title)\n",
    "    plt.xlabel('Step')\n",
    "    plt.ylabel('Linear scale')\n",
    "    plt.title(f'{title} (Linear Scale)')\n",
    "    plt.grid(True)\n",
    "    plt.legend()\n",
    "    \n",
    "    # Log scale plot\n",
    "    plt.subplot(1, 2, 2)\n",
    "    plt.semilogy(steps, losses, 'r-', marker='.', label=title)\n",
    "    plt.xlabel('Step')\n",
    "    plt.ylabel('Log scale')\n",
    "    plt.title(f'{title} (Logarithmic Scale)')\n",
    "    plt.grid(True, which=\"both\", ls=\"-\")\n",
    "    plt.legend()\n",
    "    \n",
    "    plt.tight_layout()\n",
    "    plt.show()"
   ]
  },
  {
   "cell_type": "code",
   "execution_count": null,
   "id": "92ad90ff-0547-4952-9dbc-a91a45105acb",
   "metadata": {},
   "outputs": [],
   "source": [
    "mop_plot(losses)"
   ]
  },
  {
   "cell_type": "code",
   "execution_count": null,
   "id": "18a8bd35-5594-4ee9-8cf8-89d5105a2658",
   "metadata": {},
   "outputs": [],
   "source": [
    "model = Ridge(alpha=lmbd)\n",
    "model.fit(feats, l)\n",
    "preds = model.predict(feats)\n",
    "vallg10 = np.log10(((preds - l.detach().numpy())**2).sum())\n",
    "print(f'Ridge: loss 10^({np.round(vallg10, 3)})')"
   ]
  },
  {
   "cell_type": "code",
   "execution_count": null,
   "id": "7c89c16f-11eb-4260-b122-9bf6c89e785f",
   "metadata": {},
   "outputs": [],
   "source": [
    "ox = np.linalg.inv(feats.T @ feats + 2 * lmbd * np.identity(feats.shape[1])) @ feats.T @ l_numpy"
   ]
  },
  {
   "cell_type": "code",
   "execution_count": null,
   "id": "d2646b5d-de70-4e4b-8e31-e57a4bb01a13",
   "metadata": {},
   "outputs": [],
   "source": [
    "xsn = np.concatenate(xs, axis=1)\n",
    "xsn = xsn[:dimx]\n",
    "xsn = np.concatenate((xsn[:x_sep[1]], xsn[x_sep[1]+dimz:]))\n",
    "dists = ((xsn - np.repeat(ox[:, None], xsn.shape[1], 1))**2).sum(axis=0)\n",
    "dists[:3]\n",
    "difloss = dists.flatten()[:300]\n",
    "mop_plot(difloss, \"$||x_i - x_{opt}||_2^2$\")"
   ]
  },
  {
   "cell_type": "code",
   "execution_count": null,
   "id": "82f4127f-3e0d-43ff-8943-67be923ed6d0",
   "metadata": {},
   "outputs": [],
   "source": [
    "lmbd = 0.01\n",
    "\n",
    "LWp, muWp = (19/15)**2, (11/15)**2\n",
    "\n",
    "kWp = np.sqrt(LWp / muWp)\n",
    "\n",
    "Lf, muf = sampleLmu(F, n * m + d, k=15)\n",
    "muf /= 2\n",
    "Lf *= 2\n",
    "Lf, muf = 1, 0.02\n",
    "kf = np.sqrt(Lf/muf)\n",
    "\n",
    "tau = min(1, 1/2 * np.sqrt(19 / (44 * max(1 + kf, 6))))\n",
    "mu = 1/(4 * tau * max(Lf + muf, 6 * muf))\n",
    "theta = 15/(19 * mu)\n",
    "alpha = muf / 4 * 1.01\n",
    "\n",
    "r = muf / (2 * LA)\n",
    "\n",
    "LA, muA = getMatrixLmuA(Ai)\n",
    "kA = np.sqrt(LA/muA)\n",
    "\n",
    "muB = muA / 2\n",
    "LB = LA + (LA + muA) * LWp / muWp\n",
    "kB = np.sqrt(LB/muB)\n",
    "\n",
    "gamma = np.sqrt((muA + LA) / muWp) # was Wp!\n",
    "\n",
    "###\n",
    "L2 = L.copy()\n",
    "W = np.kron(L2, np.eye(m))\n",
    "W_small = L2.copy()\n",
    "LW, muW = getMatrixLmuW(W_small)\n",
    "kW = np.sqrt(LW/muW)\n",
    "B = np.concatenate((A, gamma * Wp), axis=1)\n",
    "Wp = mulWp(np.eye(W.shape[0]))\n",
    "###\n",
    "\n",
    "LW, muW = getMatrixLmuW(W)\n",
    "kW = np.sqrt(LW/muW)\n",
    "\n",
    "B = np.concatenate((A, gamma * Wp), axis=1)\n",
    "\n",
    "\n",
    "x = np.zeros((d,1))\n",
    "ans = Algorithm2(x, mu, theta, alpha, tau, ITERS=300)\n",
    "i = 0\n",
    "pts = []\n",
    "losses = []\n",
    "xs = []\n",
    "\n",
    "for x_val in ans:\n",
    "    x = x_val[0]\n",
    "    xoval = x_val\n",
    "    if i in (50, 100, 150, 200):\n",
    "        idx1 = np.random.randint(0, n)\n",
    "        idx2 = (idx1 + np.random.randint(2, n-1)) % n\n",
    "        val = -2 * L2[idx1][idx2] - 1\n",
    "        L2[idx1][idx2] += val\n",
    "        L2[idx2][idx1] += val\n",
    "        L2[idx1][idx1] -= val\n",
    "        L2[idx2][idx2] -= val\n",
    "        W = np.kron(L2, np.eye(m))\n",
    "        W_small = L2.copy()\n",
    "        LW, muW = getMatrixLmuW(W_small)\n",
    "        kW = np.sqrt(LW/muW)\n",
    "        Wp = mulWp(np.eye(W.shape[0]))\n",
    "        B = np.concatenate((A, gamma * Wp), axis=1)\n",
    "    keffs = np.concatenate((x[:x_sep[1], :], x[x_sep[1] + dimz:-dimy, :]))\n",
    "    nefk = feats @ keffs\n",
    "    pts.append(i)\n",
    "    losses.append(lazy_label_loss(torch.Tensor(x)))\n",
    "    xs.append(x)\n",
    "    i += 1"
   ]
  },
  {
   "cell_type": "code",
   "execution_count": null,
   "id": "30d262e5-62ab-4d5d-91c5-63745244cdf4",
   "metadata": {},
   "outputs": [],
   "source": [
    "mop_plot(losses)"
   ]
  },
  {
   "cell_type": "code",
   "execution_count": null,
   "id": "fbabfa95-3598-424f-b994-b298829c51dd",
   "metadata": {},
   "outputs": [],
   "source": [
    "112/14"
   ]
  },
  {
   "cell_type": "code",
   "execution_count": null,
   "id": "a9e9354a-bd8e-4038-82aa-78f47c8bb378",
   "metadata": {},
   "outputs": [],
   "source": [
    "ox = np.linalg.inv(feats.T @ feats + 2 * lmbd * np.identity(feats.shape[1])) @ feats.T @ l_numpy"
   ]
  },
  {
   "cell_type": "code",
   "execution_count": null,
   "id": "5bd54bfd-5168-460c-b944-e7f0d8d4838c",
   "metadata": {},
   "outputs": [],
   "source": [
    "xsn = np.concatenate(xs, axis=1)\n",
    "xsn = xsn[:dimx]\n",
    "xsn = np.concatenate((xsn[:x_sep[1]], xsn[x_sep[1]+dimz:]))\n",
    "dists = ((xsn - np.repeat(ox[:, None], xsn.shape[1], 1))**2).sum(axis=0)\n",
    "dists[:3]\n",
    "difloss = dists.flatten()[:300]\n",
    "mop_plot(difloss, \"$||x_i - x_{opt}||_2^2$\")"
   ]
  }
 ],
 "metadata": {
  "kernelspec": {
   "display_name": "Python 3 (ipykernel)",
   "language": "python",
   "name": "python3"
  },
  "language_info": {
   "codemirror_mode": {
    "name": "ipython",
    "version": 3
   },
   "file_extension": ".py",
   "mimetype": "text/x-python",
   "name": "python",
   "nbconvert_exporter": "python",
   "pygments_lexer": "ipython3",
   "version": "3.11.8"
  }
 },
 "nbformat": 4,
 "nbformat_minor": 5
}
