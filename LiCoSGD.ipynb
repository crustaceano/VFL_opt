{
  "cells": [
    {
      "metadata": {
        "ExecuteTime": {
          "end_time": "2025-04-23T09:25:56.011502Z",
          "start_time": "2025-04-23T09:25:52.835119Z"
        },
        "id": "c1f6a8e3fbc79e7f"
      },
      "cell_type": "code",
      "source": [
        "from referencing.retrieval import to_cached_resource\n",
        "# !pip install torch\n",
        "# !pip install pandas"
      ],
      "id": "c1f6a8e3fbc79e7f",
      "outputs": [],
      "execution_count": 364
    },
    {
      "metadata": {
        "ExecuteTime": {
          "end_time": "2025-04-23T12:57:59.244191Z",
          "start_time": "2025-04-23T12:57:59.233793Z"
        },
        "id": "7a282161eb201965",
        "outputId": "96abdfca-cf0f-4d35-aada-6abe25c1e401",
        "colab": {
          "base_uri": "https://localhost:8080/"
        }
      },
      "cell_type": "code",
      "source": [
        "import numpy as np\n",
        "import pandas as pd\n",
        "import torch\n",
        "from cvxpy import transpose\n",
        "from matplotlib.testing import set_reproducibility_for_testing\n",
        "from torch.nn.functional import mse_loss\n",
        "from sklearn.datasets import load_svmlight_file\n",
        "\n",
        "torch.manual_seed(42)  # Set the random seed"
      ],
      "id": "7a282161eb201965",
      "outputs": [
        {
          "output_type": "execute_result",
          "data": {
            "text/plain": [
              "<torch._C.Generator at 0x793050b5b710>"
            ]
          },
          "metadata": {},
          "execution_count": 365
        }
      ],
      "execution_count": 365
    },
    {
      "metadata": {
        "id": "cdf63816298d117b"
      },
      "cell_type": "markdown",
      "source": [
        "##### init wandb"
      ],
      "id": "cdf63816298d117b"
    },
    {
      "metadata": {
        "ExecuteTime": {
          "end_time": "2025-04-23T12:58:00.057246Z",
          "start_time": "2025-04-23T12:58:00.049323Z"
        },
        "id": "b5f8e4f7049a8e2e"
      },
      "cell_type": "code",
      "source": [
        "# x = torch.tensor([1, 2, 3], dtype=torch.float32, requires_grad=True)\n",
        "# y = torch.sum(torch.pow(x, 2))\n",
        "# y.backward()\n",
        "# # print(torch.autograd.grad(y, x))\n",
        "# x.grad"
      ],
      "id": "b5f8e4f7049a8e2e",
      "outputs": [],
      "execution_count": null
    },
    {
      "metadata": {
        "ExecuteTime": {
          "end_time": "2025-04-23T14:09:22.178356Z",
          "start_time": "2025-04-23T14:09:22.166458Z"
        },
        "id": "e781570b5de23e81"
      },
      "cell_type": "code",
      "source": [
        "def default_reg(weights, lamb=0.01):\n",
        "    return lamb * torch.sum(torch.pow(weights, 2))\n",
        "\n",
        "\n",
        "class BorderNode:\n",
        "    def __init__(self, weights: torch.tensor, F: torch.tensor, reg_func=default_reg):\n",
        "        self.weights = weights.detach().clone().requires_grad_()\n",
        "        self.reg_func = reg_func\n",
        "        self.F = F\n",
        "        self.features_dim = F.shape[1]\n",
        "\n",
        "    def request_from_central_node(self, y: torch.tensor, transpose=False):\n",
        "        if transpose:\n",
        "            return self.F.t() @ y\n",
        "        return self.F @ y\n",
        "\n",
        "    def return_grad(self, weights):\n",
        "        weights_copied = weights.detach().clone()\n",
        "        weights_copied.requires_grad_(True)\n",
        "        reg = self.reg_func(weights_copied)\n",
        "        grad_weights, = torch.autograd.grad(reg, weights_copied)\n",
        "        return grad_weights\n",
        "\n",
        "    def set_weights(self, w):\n",
        "        self.weights = w.detach().clone().requires_grad_()\n",
        "\n",
        "\n",
        "class CentralNode:\n",
        "    def __init__(self, child_nodes: list[BorderNode], objects_amount: int, labels: torch.tensor):\n",
        "        assert objects_amount == labels.shape[0], \"Amount of samples in dataset must be equal to labels size\"\n",
        "\n",
        "        self.objects_amount = objects_amount\n",
        "        self.child_nodes = child_nodes\n",
        "        self.dims = [node.features_dim for node in child_nodes]  # + [self.objects_amount]\n",
        "\n",
        "        torch.manual_seed(42)  # Set the random seed\n",
        "\n",
        "        self.x = [\n",
        "            torch.rand(dim) for dim in dims\n",
        "        ]\n",
        "\n",
        "        self.labels = labels\n",
        "        self.n = len(child_nodes)\n",
        "\n",
        "        for i, child_node in enumerate(self.child_nodes):\n",
        "            child_node.set_weights(self.x[i])\n",
        "\n",
        "    def get_grads(self, u):\n",
        "        grads = []\n",
        "        for i, border_node in enumerate(self.child_nodes):\n",
        "            grad = border_node.return_grad(u[i])\n",
        "            grads.append(grad)\n",
        "\n",
        "        return grads"
      ],
      "id": "e781570b5de23e81",
      "outputs": [],
      "execution_count": 425
    },
    {
      "metadata": {
        "ExecuteTime": {
          "end_time": "2025-04-23T14:09:22.391085Z",
          "start_time": "2025-04-23T14:09:22.376745Z"
        },
        "id": "47569c4c9191f397"
      },
      "cell_type": "code",
      "source": [
        "class LiCoSGD:\n",
        "    def __init__(self, centr: CentralNode, loss_func, gamma, tau):\n",
        "        torch.manual_seed(42)  # Set the random seed\n",
        "        self.centr = centr\n",
        "        self.n = self.centr.n\n",
        "        self.u = self.centr.x + [torch.rand(self.centr.objects_amount)]\n",
        "        self.y = torch.rand(self.centr.objects_amount)\n",
        "        self.gamma = gamma\n",
        "        self.tau = tau\n",
        "        self.loss_func = loss_func\n",
        "\n",
        "        for i, child_node in enumerate(self.centr.child_nodes):\n",
        "            child_node.set_weights(self.centr.x[i])\n",
        "\n",
        "    def _get_z_grad(self, z):\n",
        "        z_copy = z.detach().clone()\n",
        "        z_copy.requires_grad_(True)\n",
        "        loss = self.loss_func(z_copy, self.centr.labels)\n",
        "        grad_z, = torch.autograd.grad(loss, z_copy)\n",
        "        return grad_z\n",
        "\n",
        "    def step(self):\n",
        "        x_grads = self.centr.get_grads(self.u)\n",
        "        z_grad = self._get_z_grad(self.u[self.n])\n",
        "        w = [self.u[i] - self.gamma * x_grads[i] for i in range(self.n)] + [self.u[self.n] - self.gamma * z_grad]\n",
        "\n",
        "        with torch.no_grad():\n",
        "            components = [border_node.request_from_central_node(self.y, transpose=True) for i, border_node in\n",
        "                          enumerate(self.centr.child_nodes)] + [-self.y]\n",
        "\n",
        "            vector = [w[i] - self.gamma * components[i] for i in range(len(w))]\n",
        "\n",
        "            l_multiplied_vectors = [\n",
        "                                       border_node.request_from_central_node(\n",
        "                                           vector[i])\n",
        "                                       for\n",
        "                                       i, border_node in enumerate(self.centr.child_nodes)\n",
        "                                   ] + [- vector[self.n]]\n",
        "\n",
        "            self.y = self.y + self.tau * torch.sum(torch.hstack([x.unsqueeze(1) for x in l_multiplied_vectors]), dim=1,\n",
        "                                                   keepdim=False)\n",
        "\n",
        "            components = [border_node.request_from_central_node(self.y, transpose=True) for i, border_node in\n",
        "                          enumerate(self.centr.child_nodes)] + [-self.y]\n",
        "\n",
        "            self.u = [w[i] - self.gamma * components[i] for i in range(len(w))]\n",
        "\n",
        "        for i, child_node in enumerate(self.centr.child_nodes):\n",
        "            child_node.set_weights(self.centr.x[i])\n",
        "\n",
        "    def predict(self):\n",
        "        with torch.no_grad():\n",
        "            weights = self.u[:self.n]\n",
        "\n",
        "            ans = torch.zeros(self.centr.objects_amount, dtype=torch.float32)\n",
        "            for i in range(self.n):\n",
        "                ans += self.centr.child_nodes[i].request_from_central_node(weights[i])\n",
        "\n",
        "        return ans\n",
        "\n"
      ],
      "id": "47569c4c9191f397",
      "outputs": [],
      "execution_count": 473
    },
    {
      "metadata": {
        "ExecuteTime": {
          "end_time": "2025-04-23T14:45:49.791668Z",
          "start_time": "2025-04-23T14:45:49.763874Z"
        },
        "id": "655ee78a45b1ad48"
      },
      "cell_type": "code",
      "source": [
        "class EGVFL:\n",
        "    def __init__(self, centr: CentralNode, loss_func, gamma):\n",
        "        torch.manual_seed(42)\n",
        "        self.centr = centr\n",
        "        self.n = self.centr.n\n",
        "        self.x = self.centr.x\n",
        "        self.z = torch.rand(self.centr.objects_amount)\n",
        "        self.y = torch.rand(self.centr.objects_amount)\n",
        "        self.gamma = gamma\n",
        "        self.loss_func = loss_func\n",
        "\n",
        "        # for i, child_node in enumerate(self.centr.child_nodes):\n",
        "        #     child_node.set_weights(self.x[i])\n",
        "\n",
        "    def _get_z_grad(self, z):\n",
        "        z_copy = z.detach().clone()\n",
        "        z_copy.requires_grad_(True)\n",
        "        loss = self.loss_func(z_copy, self.centr.labels)\n",
        "        grad_z, = torch.autograd.grad(loss, z_copy)\n",
        "        return grad_z\n",
        "\n",
        "    def step(self):\n",
        "        A_i_dot_x_ik = [border_node.request_from_central_node(self.x[i], transpose=False) for i, border_node in\n",
        "                        enumerate(self.centr.child_nodes)]\n",
        "        A_iT_dot_y_k = [border_node.request_from_central_node(self.y, transpose=True) for i, border_node in\n",
        "                        enumerate(self.centr.child_nodes)]\n",
        "        # print(A_i_dot_x_ik[0].shape, A_i_dot_x_ik)\n",
        "        # print(A_iT_dot_y_k[0].shape, A_iT_dot_y_k)\n",
        "        x_half = [\n",
        "            self.x[i] - self.gamma * (A_iT_dot_y_k[i] + border_node.return_grad(self.x[i]))\n",
        "            for i, border_node in enumerate(self.centr.child_nodes)\n",
        "        ]\n",
        "\n",
        "        # print(x_half)\n",
        "        # x_half hadn't pushed to border\n",
        "\n",
        "        z_half = self.z - self.gamma * (self._get_z_grad(self.z) - self.y)\n",
        "\n",
        "        y_half = self.y + self.gamma * (torch.sum(torch.vstack(A_i_dot_x_ik), dim=-2) - z_half)\n",
        "\n",
        "        A_i_dot_x_half_ik1 = [border_node.request_from_central_node(x_half[i], transpose=False) for i, border_node in\n",
        "                              enumerate(self.centr.child_nodes)]\n",
        "        # uses x_half without pushing\n",
        "        A_iT_dot_y_half_ik1 = [border_node.request_from_central_node(y_half, transpose=True) for i, border_node in\n",
        "                               enumerate(self.centr.child_nodes)]\n",
        "\n",
        "        # different grad need x_half, kostil method\n",
        "        x_new = [self.x[i] - self.gamma * (A_iT_dot_y_half_ik1[i] + border_node.return_grad(weights=x_half[i])) for\n",
        "                 i, border_node in enumerate(self.centr.child_nodes)]\n",
        "\n",
        "        z_new = self.z - self.gamma * (self._get_z_grad(z_half) - y_half)\n",
        "\n",
        "        y_new = self.y + self.gamma * (torch.sum(torch.vstack(A_i_dot_x_half_ik1), dim=-2) - z_half)\n",
        "\n",
        "        # for i, border_node in enumerate(self.centr.child_nodes):\n",
        "        #     border_node.set_weights(x_new[i])\n",
        "\n",
        "        self.x = x_new\n",
        "\n",
        "        self.z = z_new\n",
        "\n",
        "        self.y = y_new\n",
        "\n",
        "    def predict(self):\n",
        "        with torch.no_grad():\n",
        "            weights = self.x\n",
        "            ans = torch.zeros(self.centr.objects_amount, dtype=torch.float32)\n",
        "            for i in range(self.n):\n",
        "                ans += self.centr.child_nodes[i].request_from_central_node(weights[i])\n",
        "\n",
        "        return ans\n",
        "\n"
      ],
      "id": "655ee78a45b1ad48",
      "outputs": [],
      "execution_count": 427
    },
    {
      "metadata": {
        "id": "e31e04199a4619e1"
      },
      "cell_type": "markdown",
      "source": [],
      "id": "e31e04199a4619e1"
    },
    {
      "metadata": {
        "ExecuteTime": {
          "end_time": "2025-04-23T14:43:11.863426Z",
          "start_time": "2025-04-23T14:43:11.845449Z"
        },
        "id": "35054b9050c53e4"
      },
      "cell_type": "code",
      "source": [
        "# torch.tensor([1, 2, 3]) + 3"
      ],
      "id": "35054b9050c53e4",
      "outputs": [],
      "execution_count": 428
    },
    {
      "metadata": {
        "ExecuteTime": {
          "end_time": "2025-04-23T14:43:12.273873Z",
          "start_time": "2025-04-23T14:43:12.209850Z"
        },
        "id": "d9e192460e9f41e8"
      },
      "cell_type": "code",
      "source": [
        "# randpm example data\n",
        "m = 70\n",
        "dims = [3, 2, 5, 10]\n",
        "n = len(dims)\n",
        "d = sum(dims)\n",
        "W = []\n",
        "F = []\n",
        "torch.manual_seed(42)  # Set the random seed\n",
        "ys = torch.rand(m)\n",
        "for i in range(n):\n",
        "    F.append(torch.rand(size=(m, dims[i])))\n",
        "    W.append(torch.rand(dims[i]))\n",
        "\n",
        "border_nodes = []\n",
        "for i in range(n):\n",
        "    border_nodes.append(BorderNode(W[i], F[i]))\n",
        "\n",
        "centr = CentralNode(border_nodes, m, ys)"
      ],
      "id": "d9e192460e9f41e8",
      "outputs": [],
      "execution_count": 429
    },
    {
      "metadata": {
        "ExecuteTime": {
          "end_time": "2025-04-23T14:43:12.854394Z",
          "start_time": "2025-04-23T14:43:12.850265Z"
        },
        "id": "33191cc5e8b7231d"
      },
      "cell_type": "code",
      "source": [
        "# algo = LiCoSGD(centr, mse_loss, 0.25, 0.001)"
      ],
      "id": "33191cc5e8b7231d",
      "outputs": [],
      "execution_count": 430
    },
    {
      "metadata": {
        "ExecuteTime": {
          "end_time": "2025-04-23T14:43:13.355194Z",
          "start_time": "2025-04-23T14:43:13.253694Z"
        },
        "id": "fe4bb818fb523fde"
      },
      "cell_type": "code",
      "source": [
        "algo = EGVFL(centr, mse_loss, gamma=0.01)"
      ],
      "id": "fe4bb818fb523fde",
      "outputs": [],
      "execution_count": 431
    },
    {
      "metadata": {
        "ExecuteTime": {
          "end_time": "2025-04-23T14:43:13.814603Z",
          "start_time": "2025-04-23T14:43:13.726127Z"
        },
        "id": "d4378fcefa183405"
      },
      "cell_type": "code",
      "source": [
        "algo.step()"
      ],
      "id": "d4378fcefa183405",
      "outputs": [],
      "execution_count": 432
    },
    {
      "metadata": {
        "ExecuteTime": {
          "end_time": "2025-04-23T14:44:30.545667Z",
          "start_time": "2025-04-23T14:44:30.536230Z"
        },
        "id": "af544f6650ed0981",
        "outputId": "2bd6dd84-1298-46e8-9a83-6eddb8873802",
        "colab": {
          "base_uri": "https://localhost:8080/"
        }
      },
      "cell_type": "code",
      "source": [
        "a = torch.tensor([1, 2, 3])\n",
        "b = torch.tensor([4, 5, 6])\n",
        "\n",
        "torch.sum(torch.vstack([a, b]), dim=-2)"
      ],
      "id": "af544f6650ed0981",
      "outputs": [
        {
          "output_type": "execute_result",
          "data": {
            "text/plain": [
              "tensor([5, 7, 9])"
            ]
          },
          "metadata": {},
          "execution_count": 433
        }
      ],
      "execution_count": 433
    },
    {
      "metadata": {
        "id": "b7940a316458c9d3"
      },
      "cell_type": "code",
      "outputs": [],
      "execution_count": 433,
      "source": [],
      "id": "b7940a316458c9d3"
    },
    {
      "metadata": {
        "ExecuteTime": {
          "end_time": "2025-04-23T14:41:54.860357Z",
          "start_time": "2025-04-23T14:41:54.082687Z"
        },
        "id": "126a5aceb318dd3b"
      },
      "cell_type": "code",
      "source": [
        "# for epoch in range(100):\n",
        "#     algo.step()\n",
        "#     # print(algo.u[:n])\n",
        "\n",
        "#     print(f\"Epoch {epoch + 1}/10 completed. Loss: {mse_loss(algo.predict(), centr.labels)}\")"
      ],
      "id": "126a5aceb318dd3b",
      "outputs": [],
      "execution_count": 434
    },
    {
      "metadata": {
        "ExecuteTime": {
          "end_time": "2025-04-23T14:45:57.050549Z",
          "start_time": "2025-04-23T14:45:56.886079Z"
        },
        "id": "196344b5fe0af195"
      },
      "cell_type": "code",
      "source": [
        "dataset = 'mushrooms.txt'\n",
        "data = load_svmlight_file(dataset)"
      ],
      "id": "196344b5fe0af195",
      "outputs": [],
      "execution_count": 435
    },
    {
      "metadata": {
        "ExecuteTime": {
          "end_time": "2025-04-23T14:45:57.224305Z",
          "start_time": "2025-04-23T14:45:57.207101Z"
        },
        "id": "1d8767cbb8398f28"
      },
      "cell_type": "code",
      "source": [
        "X, y = data[0].toarray(), data[1]"
      ],
      "id": "1d8767cbb8398f28",
      "outputs": [],
      "execution_count": 436
    },
    {
      "metadata": {
        "ExecuteTime": {
          "end_time": "2025-04-23T14:45:57.692146Z",
          "start_time": "2025-04-23T14:45:57.549956Z"
        },
        "id": "92807f1302f2d2b1"
      },
      "cell_type": "code",
      "source": [
        "m = X.shape[0]\n",
        "n = 4\n",
        "dims = [X.shape[1] // n for i in range(n)]\n",
        "d = sum(dims)\n",
        "W = []\n",
        "F = []\n",
        "ys = torch.tensor(y, dtype=torch.float32)\n",
        "torch.manual_seed(42)  # Set the random seed\n",
        "\n",
        "for i in range(n):\n",
        "    F.append(torch.tensor(X[:, i * dims[i]: (i + 1) * dims[i]], dtype=torch.float32))\n",
        "    W.append(torch.rand(dims[i]))\n",
        "\n",
        "border_nodes = []\n",
        "for i in range(n):\n",
        "    border_nodes.append(BorderNode(W[i], F[i]))\n",
        "\n",
        "centr = CentralNode(border_nodes, m, ys)"
      ],
      "id": "92807f1302f2d2b1",
      "outputs": [],
      "execution_count": 450
    },
    {
      "metadata": {
        "ExecuteTime": {
          "end_time": "2025-04-23T14:45:59.661381Z",
          "start_time": "2025-04-23T14:45:59.652911Z"
        },
        "id": "16879a0165bb6236"
      },
      "cell_type": "code",
      "source": [
        "algo = LiCoSGD(centr, mse_loss, gamma=.25, tau=.000001)"
      ],
      "id": "16879a0165bb6236",
      "outputs": [],
      "execution_count": 451
    },
    {
      "metadata": {
        "ExecuteTime": {
          "end_time": "2025-04-23T14:45:59.949092Z",
          "start_time": "2025-04-23T14:45:59.941280Z"
        },
        "id": "1973d33c80f5986d"
      },
      "cell_type": "code",
      "source": [
        "algo = EGVFL(centr, mse_loss, gamma=0.00001)"
      ],
      "id": "1973d33c80f5986d",
      "outputs": [],
      "execution_count": 452
    },
    {
      "metadata": {
        "ExecuteTime": {
          "end_time": "2025-04-23T14:46:00.460343Z",
          "start_time": "2025-04-23T14:46:00.455794Z"
        },
        "id": "9ad1b9eab43d3170"
      },
      "cell_type": "code",
      "source": [
        "# def calc_pred(centr):\n",
        "#     pred = torch.zeros(m, dtype=torch.float32)\n",
        "#     for i, child_node in enumerate(centr.child_nodes):\n",
        "#         pred += child_node.request_from_central_node(centr.get_ith_component(i, centr.dims, centr.u))\n",
        "#     return pred"
      ],
      "id": "9ad1b9eab43d3170",
      "outputs": [],
      "execution_count": 453
    },
    {
      "cell_type": "code",
      "source": [
        "def loss(x, b):\n",
        "  return 1 / 2 * torch.sum(torch.pow(x - b, 2))"
      ],
      "metadata": {
        "id": "no4iVt2Bhp_d"
      },
      "id": "no4iVt2Bhp_d",
      "execution_count": 522,
      "outputs": []
    },
    {
      "metadata": {
        "ExecuteTime": {
          "end_time": "2025-04-23T14:54:09.120598Z",
          "start_time": "2025-04-23T14:51:55.310056Z"
        },
        "id": "bfcbe23024f0cdae",
        "outputId": "403dc121-9d40-4835-8458-deacfff262ba",
        "colab": {
          "base_uri": "https://localhost:8080/"
        }
      },
      "cell_type": "code",
      "source": [
        "import matplotlib.pyplot as plt\n",
        "from torch.nn.functional import mse_loss\n",
        "from tqdm import tqdm\n",
        "\n",
        "\n",
        "epoches = 10000\n",
        "batch_size = 1\n",
        "\n",
        "losses_lico = []\n",
        "losses_egvfl = []\n",
        "\n",
        "algo_lico = LiCoSGD(centr, loss, gamma=0.3, tau=0.00005)\n",
        "losses_lico.append(mse_loss(algo_lico.predict(), centr.labels))\n",
        "for epoch in tqdm(range(epoches)):\n",
        "    avg_loss = 0.0\n",
        "    for batch in range(batch_size):\n",
        "        algo_lico.step()\n",
        "        avg_loss += mse_loss(algo_lico.predict(), centr.labels).item()\n",
        "    avg_loss /= batch_size\n",
        "    losses_lico.append(avg_loss)\n",
        "# print(centr.x)\n",
        "algo_egvfl = EGVFL(centr, loss, gamma=0.0017247366914323688)\n",
        "losses_egvfl.append(mse_loss(algo_egvfl.predict(), centr.labels))\n",
        "for epoch in tqdm(range(epoches)):\n",
        "    avg_loss = 0.0\n",
        "    for batch in range(batch_size):\n",
        "        algo_egvfl.step()\n",
        "        avg_loss += mse_loss(algo_egvfl.predict(), centr.labels).item()\n",
        "    avg_loss /= batch_size\n",
        "    losses_egvfl.append(avg_loss)\n",
        "# print(centr.x)"
      ],
      "id": "bfcbe23024f0cdae",
      "outputs": [
        {
          "output_type": "stream",
          "name": "stderr",
          "text": [
            "100%|██████████| 10000/10000 [00:49<00:00, 203.51it/s]\n",
            " 34%|███▎      | 3352/10000 [00:17<00:33, 200.76it/s]"
          ]
        }
      ],
      "execution_count": null
    },
    {
      "cell_type": "code",
      "source": [
        "losses_lico[-1]"
      ],
      "metadata": {
        "id": "jbQZzw9BbQfX",
        "outputId": "2b57b924-ddc8-43cf-d92f-734d53510d7e",
        "colab": {
          "base_uri": "https://localhost:8080/"
        }
      },
      "id": "jbQZzw9BbQfX",
      "execution_count": 524,
      "outputs": [
        {
          "output_type": "execute_result",
          "data": {
            "text/plain": [
              "0.0755310207605362"
            ]
          },
          "metadata": {},
          "execution_count": 524
        }
      ]
    },
    {
      "metadata": {
        "ExecuteTime": {
          "end_time": "2025-04-23T14:54:11.718809Z",
          "start_time": "2025-04-23T14:54:11.290620Z"
        },
        "id": "55b5c4ed67d6a244",
        "outputId": "4eaa1691-07f2-4ff7-8258-2f0424a49113",
        "colab": {
          "base_uri": "https://localhost:8080/",
          "height": 564
        }
      },
      "cell_type": "code",
      "source": [
        "skipped = 0\n",
        "\n",
        "plt.figure(figsize=(10, 6))\n",
        "plt.yscale(\"log\")\n",
        "plt.plot(range((skipped + 1) * batch_size, (epoches + 1 + 1) * batch_size, batch_size), losses_lico[skipped:], label=\"LiCoSGD Loss\")\n",
        "plt.plot(range((skipped + 1) * batch_size, (epoches + 1 + 1) * batch_size, batch_size), losses_egvfl[skipped:], label=\"EGVFL Loss\")\n",
        "plt.xlabel(\"Epoch\")\n",
        "plt.ylabel(\"Loss\")\n",
        "plt.title(f\"Loss Comparison Between LiCoSGD and EGVFL\")\n",
        "plt.legend()\n",
        "plt.grid()\n",
        "plt.show()"
      ],
      "id": "55b5c4ed67d6a244",
      "outputs": [
        {
          "output_type": "display_data",
          "data": {
            "text/plain": [
              "<Figure size 1000x600 with 1 Axes>"
            ],
            "image/png": "[encoded data removed]"
          },
          "metadata": {}
        }
      ],
      "execution_count": 525
    },
    {
      "metadata": {
        "ExecuteTime": {
          "end_time": "2025-04-23T14:56:12.905732Z",
          "start_time": "2025-04-23T14:56:12.887058Z"
        },
        "id": "17c012c8e42f2ba4",
        "outputId": "1e1fe5d6-d332-4fc3-f245-c3a4e5f823b9"
      },
      "cell_type": "code",
      "source": [],
      "id": "17c012c8e42f2ba4",
      "outputs": [
        {
          "data": {
            "text/plain": [
              "tensor(1.)"
            ]
          },
          "execution_count": 487,
          "metadata": {},
          "output_type": "execute_result"
        }
      ],
      "execution_count": null
    },
    {
      "metadata": {
        "id": "d98dfdf9a392dc81"
      },
      "cell_type": "code",
      "outputs": [],
      "execution_count": null,
      "source": [],
      "id": "d98dfdf9a392dc81"
    },
    {
      "metadata": {
        "ExecuteTime": {
          "end_time": "2025-04-23T14:46:21.902046Z",
          "start_time": "2025-04-23T14:46:00.830539Z"
        },
        "id": "8299ecadd33aa19",
        "outputId": "65e79baf-2966-4519-e941-2493210af2de"
      },
      "cell_type": "code",
      "source": [
        "import matplotlib.pyplot as plt\n",
        "from torch.nn.functional import mse_loss\n",
        "\n",
        "epoches = 100\n",
        "batch_size = 100\n",
        "losses = []\n",
        "\n",
        "for epoch in range(epoches):\n",
        "    avg_loss = 0.0\n",
        "    for batch in range(batch_size):\n",
        "        algo.step()\n",
        "        avg_loss += mse_loss(algo.predict(), centr.labels).item()\n",
        "    avg_loss /= batch_size\n",
        "    losses.append(avg_loss)\n",
        "\n",
        "    print(f\"Epoch {epoch + 1}/{epoches} completed. Loss: {avg_loss}\")\n",
        "\n",
        "# Plot the loss values\n",
        "plt.figure(figsize=(10, 6))\n",
        "plt.plot(range(1, epoches + 1), losses, label=\"Loss\")\n",
        "plt.xlabel(\"Epoch\")\n",
        "plt.ylabel(\"Loss\")\n",
        "plt.title(\"Loss over Epochs\")\n",
        "plt.legend()\n",
        "plt.grid()\n",
        "plt.show()"
      ],
      "id": "8299ecadd33aa19",
      "outputs": [
        {
          "name": "stdout",
          "output_type": "stream",
          "text": [
            "Epoch 1/100 completed. Loss: 317.7603866624832\n",
            "Epoch 2/100 completed. Loss: 2994.1151794433595\n",
            "Epoch 3/100 completed. Loss: 8110.639262695313\n",
            "Epoch 4/100 completed. Loss: 14007.168876953125\n",
            "Epoch 5/100 completed. Loss: 18768.041171875\n",
            "Epoch 6/100 completed. Loss: 20846.962265625\n",
            "Epoch 7/100 completed. Loss: 19570.5766015625\n",
            "Epoch 8/100 completed. Loss: 15356.560849609376\n",
            "Epoch 9/100 completed. Loss: 9575.518466796875\n",
            "Epoch 10/100 completed. Loss: 4102.3959606933595\n",
            "Epoch 11/100 completed. Loss: 704.3761010169983\n",
            "Epoch 12/100 completed. Loss: 465.35306546211245\n",
            "Epoch 13/100 completed. Loss: 3434.7575476074217\n",
            "Epoch 14/100 completed. Loss: 8614.902583007812\n",
            "Epoch 15/100 completed. Loss: 14290.246845703125\n",
            "Epoch 16/100 completed. Loss: 18590.32625\n",
            "Epoch 17/100 completed. Loss: 20101.999765625\n",
            "Epoch 18/100 completed. Loss: 18330.8608203125\n",
            "Epoch 19/100 completed. Loss: 13861.33869140625\n",
            "Epoch 20/100 completed. Loss: 8163.716611328125\n",
            "Epoch 21/100 completed. Loss: 3111.6983349609377\n",
            "Epoch 22/100 completed. Loss: 368.6488290214539\n",
            "Epoch 23/100 completed. Loss: 843.2776497650146\n",
            "Epoch 24/100 completed. Loss: 4392.519997558594\n",
            "Epoch 25/100 completed. Loss: 9868.368227539062\n",
            "Epoch 26/100 completed. Loss: 15492.90978515625\n",
            "Epoch 27/100 completed. Loss: 19438.6558984375\n",
            "Epoch 28/100 completed. Loss: 20424.41275390625\n",
            "Epoch 29/100 completed. Loss: 18132.14421875\n"
          ]
        },
        {
          "ename": "KeyboardInterrupt",
          "evalue": "",
          "output_type": "error",
          "traceback": [
            "\u001b[31m---------------------------------------------------------------------------\u001b[39m",
            "\u001b[31mKeyboardInterrupt\u001b[39m                         Traceback (most recent call last)",
            "\u001b[36mCell\u001b[39m\u001b[36m \u001b[39m\u001b[32mIn[482]\u001b[39m\u001b[32m, line 11\u001b[39m\n\u001b[32m      9\u001b[39m avg_loss = \u001b[32m0.0\u001b[39m\n\u001b[32m     10\u001b[39m \u001b[38;5;28;01mfor\u001b[39;00m batch \u001b[38;5;129;01min\u001b[39;00m \u001b[38;5;28mrange\u001b[39m(batch_size):\n\u001b[32m---> \u001b[39m\u001b[32m11\u001b[39m     \u001b[43malgo\u001b[49m\u001b[43m.\u001b[49m\u001b[43mstep\u001b[49m\u001b[43m(\u001b[49m\u001b[43m)\u001b[49m\n\u001b[32m     12\u001b[39m     avg_loss += mse_loss(algo.predict(), centr.labels).item()\n\u001b[32m     13\u001b[39m avg_loss /= batch_size\n",
            "\u001b[36mCell\u001b[39m\u001b[36m \u001b[39m\u001b[32mIn[475]\u001b[39m\u001b[32m, line 29\u001b[39m, in \u001b[36mEGVFL.step\u001b[39m\u001b[34m(self)\u001b[39m\n\u001b[32m     24\u001b[39m A_iT_dot_y_k = [border_node.request_from_central_node(\u001b[38;5;28mself\u001b[39m.y, transpose=\u001b[38;5;28;01mTrue\u001b[39;00m) \u001b[38;5;28;01mfor\u001b[39;00m i, border_node \u001b[38;5;129;01min\u001b[39;00m\n\u001b[32m     25\u001b[39m                 \u001b[38;5;28menumerate\u001b[39m(\u001b[38;5;28mself\u001b[39m.centr.child_nodes)]\n\u001b[32m     26\u001b[39m \u001b[38;5;66;03m# print(A_i_dot_x_ik[0].shape, A_i_dot_x_ik)\u001b[39;00m\n\u001b[32m     27\u001b[39m \u001b[38;5;66;03m# print(A_iT_dot_y_k[0].shape, A_iT_dot_y_k)\u001b[39;00m\n\u001b[32m     28\u001b[39m x_half = [\n\u001b[32m---> \u001b[39m\u001b[32m29\u001b[39m     \u001b[38;5;28mself\u001b[39m.x[i] - \u001b[38;5;28mself\u001b[39m.gamma * (A_iT_dot_y_k[i] + \u001b[43mborder_node\u001b[49m\u001b[43m.\u001b[49m\u001b[43mreturn_grad\u001b[49m\u001b[43m(\u001b[49m\u001b[43m)\u001b[49m)\n\u001b[32m     30\u001b[39m     \u001b[38;5;28;01mfor\u001b[39;00m i, border_node \u001b[38;5;129;01min\u001b[39;00m \u001b[38;5;28menumerate\u001b[39m(\u001b[38;5;28mself\u001b[39m.centr.child_nodes)\n\u001b[32m     31\u001b[39m ]\n\u001b[32m     33\u001b[39m \u001b[38;5;66;03m# print(x_half)\u001b[39;00m\n\u001b[32m     34\u001b[39m \u001b[38;5;66;03m# x_half hadn't pushed to border\u001b[39;00m\n\u001b[32m     36\u001b[39m z_half = \u001b[38;5;28mself\u001b[39m.z - \u001b[38;5;28mself\u001b[39m.gamma * (\u001b[38;5;28mself\u001b[39m._get_z_grad(\u001b[38;5;28mself\u001b[39m.z) - \u001b[38;5;28mself\u001b[39m.y)\n",
            "\u001b[36mCell\u001b[39m\u001b[36m \u001b[39m\u001b[32mIn[336]\u001b[39m\u001b[32m, line 23\u001b[39m, in \u001b[36mBorderNode.return_grad\u001b[39m\u001b[34m(self, weights)\u001b[39m\n\u001b[32m     20\u001b[39m         \u001b[38;5;28mself\u001b[39m.weights.grad.zero_()\n\u001b[32m     22\u001b[39m     reg = \u001b[38;5;28mself\u001b[39m.reg_func(\u001b[38;5;28mself\u001b[39m.weights)\n\u001b[32m---> \u001b[39m\u001b[32m23\u001b[39m     \u001b[43mreg\u001b[49m\u001b[43m.\u001b[49m\u001b[43mbackward\u001b[49m\u001b[43m(\u001b[49m\u001b[43m)\u001b[49m\n\u001b[32m     24\u001b[39m     \u001b[38;5;28;01mreturn\u001b[39;00m \u001b[38;5;28mself\u001b[39m.weights.grad\n\u001b[32m     25\u001b[39m \u001b[38;5;66;03m# blya, kostil\u001b[39;00m\n\u001b[32m     26\u001b[39m \u001b[38;5;28;01melse\u001b[39;00m:\n",
            "\u001b[36mFile \u001b[39m\u001b[32m~/Documents/Github/Decentralized-Optimization/.venv/lib64/python3.13/site-packages/torch/_tensor.py:626\u001b[39m, in \u001b[36mTensor.backward\u001b[39m\u001b[34m(self, gradient, retain_graph, create_graph, inputs)\u001b[39m\n\u001b[32m    616\u001b[39m \u001b[38;5;28;01mif\u001b[39;00m has_torch_function_unary(\u001b[38;5;28mself\u001b[39m):\n\u001b[32m    617\u001b[39m     \u001b[38;5;28;01mreturn\u001b[39;00m handle_torch_function(\n\u001b[32m    618\u001b[39m         Tensor.backward,\n\u001b[32m    619\u001b[39m         (\u001b[38;5;28mself\u001b[39m,),\n\u001b[32m   (...)\u001b[39m\u001b[32m    624\u001b[39m         inputs=inputs,\n\u001b[32m    625\u001b[39m     )\n\u001b[32m--> \u001b[39m\u001b[32m626\u001b[39m \u001b[43mtorch\u001b[49m\u001b[43m.\u001b[49m\u001b[43mautograd\u001b[49m\u001b[43m.\u001b[49m\u001b[43mbackward\u001b[49m\u001b[43m(\u001b[49m\n\u001b[32m    627\u001b[39m \u001b[43m    \u001b[49m\u001b[38;5;28;43mself\u001b[39;49m\u001b[43m,\u001b[49m\u001b[43m \u001b[49m\u001b[43mgradient\u001b[49m\u001b[43m,\u001b[49m\u001b[43m \u001b[49m\u001b[43mretain_graph\u001b[49m\u001b[43m,\u001b[49m\u001b[43m \u001b[49m\u001b[43mcreate_graph\u001b[49m\u001b[43m,\u001b[49m\u001b[43m \u001b[49m\u001b[43minputs\u001b[49m\u001b[43m=\u001b[49m\u001b[43minputs\u001b[49m\n\u001b[32m    628\u001b[39m \u001b[43m\u001b[49m\u001b[43m)\u001b[49m\n",
            "\u001b[36mFile \u001b[39m\u001b[32m~/Documents/Github/Decentralized-Optimization/.venv/lib64/python3.13/site-packages/torch/autograd/__init__.py:340\u001b[39m, in \u001b[36mbackward\u001b[39m\u001b[34m(tensors, grad_tensors, retain_graph, create_graph, grad_variables, inputs)\u001b[39m\n\u001b[32m    331\u001b[39m inputs = (\n\u001b[32m    332\u001b[39m     (inputs,)\n\u001b[32m    333\u001b[39m     \u001b[38;5;28;01mif\u001b[39;00m \u001b[38;5;28misinstance\u001b[39m(inputs, (torch.Tensor, graph.GradientEdge))\n\u001b[32m   (...)\u001b[39m\u001b[32m    336\u001b[39m     \u001b[38;5;28;01melse\u001b[39;00m ()\n\u001b[32m    337\u001b[39m )\n\u001b[32m    339\u001b[39m grad_tensors_ = _tensor_or_tensors_to_tuple(grad_tensors, \u001b[38;5;28mlen\u001b[39m(tensors))\n\u001b[32m--> \u001b[39m\u001b[32m340\u001b[39m grad_tensors_ = \u001b[43m_make_grads\u001b[49m\u001b[43m(\u001b[49m\u001b[43mtensors\u001b[49m\u001b[43m,\u001b[49m\u001b[43m \u001b[49m\u001b[43mgrad_tensors_\u001b[49m\u001b[43m,\u001b[49m\u001b[43m \u001b[49m\u001b[43mis_grads_batched\u001b[49m\u001b[43m=\u001b[49m\u001b[38;5;28;43;01mFalse\u001b[39;49;00m\u001b[43m)\u001b[49m\n\u001b[32m    341\u001b[39m \u001b[38;5;28;01mif\u001b[39;00m retain_graph \u001b[38;5;129;01mis\u001b[39;00m \u001b[38;5;28;01mNone\u001b[39;00m:\n\u001b[32m    342\u001b[39m     retain_graph = create_graph\n",
            "\u001b[36mFile \u001b[39m\u001b[32m~/Documents/Github/Decentralized-Optimization/.venv/lib64/python3.13/site-packages/torch/autograd/__init__.py:229\u001b[39m, in \u001b[36m_make_grads\u001b[39m\u001b[34m(outputs, grads, is_grads_batched)\u001b[39m\n\u001b[32m    224\u001b[39m     \u001b[38;5;28;01melse\u001b[39;00m:\n\u001b[32m    225\u001b[39m         \u001b[38;5;28;01mraise\u001b[39;00m \u001b[38;5;167;01mTypeError\u001b[39;00m(\n\u001b[32m    226\u001b[39m             \u001b[33m\"\u001b[39m\u001b[33mgradients can be either Tensors or None, but got \u001b[39m\u001b[33m\"\u001b[39m\n\u001b[32m    227\u001b[39m             + \u001b[38;5;28mtype\u001b[39m(grad).\u001b[34m__name__\u001b[39m\n\u001b[32m    228\u001b[39m         )\n\u001b[32m--> \u001b[39m\u001b[32m229\u001b[39m \u001b[38;5;28;01mreturn\u001b[39;00m \u001b[38;5;28;43mtuple\u001b[39;49m\u001b[43m(\u001b[49m\u001b[43mnew_grads\u001b[49m\u001b[43m)\u001b[49m\n",
            "\u001b[31mKeyboardInterrupt\u001b[39m: "
          ]
        }
      ],
      "execution_count": null
    },
    {
      "metadata": {
        "ExecuteTime": {
          "end_time": "2025-04-23T14:14:39.022366Z",
          "start_time": "2025-04-23T14:14:39.018771Z"
        },
        "id": "69f8173de29942b0"
      },
      "cell_type": "code",
      "source": [],
      "id": "69f8173de29942b0",
      "outputs": [],
      "execution_count": null
    },
    {
      "metadata": {
        "id": "25ba67a12524abcd"
      },
      "cell_type": "code",
      "outputs": [],
      "execution_count": null,
      "source": [],
      "id": "25ba67a12524abcd"
    }
  ],
  "metadata": {
    "kernelspec": {
      "display_name": "Python 3",
      "language": "python",
      "name": "python3"
    },
    "language_info": {
      "codemirror_mode": {
        "name": "ipython",
        "version": 2
      },
      "file_extension": ".py",
      "mimetype": "text/x-python",
      "name": "python",
      "nbconvert_exporter": "python",
      "pygments_lexer": "ipython2",
      "version": "2.7.6"
    },
    "colab": {
      "provenance": []
    }
  },
  "nbformat": 4,
  "nbformat_minor": 5
}