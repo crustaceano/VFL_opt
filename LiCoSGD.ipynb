{
 "cells": [
  {
   "metadata": {
    "id": "7a282161eb201965",
    "outputId": "96abdfca-cf0f-4d35-aada-6abe25c1e401",
    "colab": {
     "base_uri": "https://localhost:8080/"
    },
    "ExecuteTime": {
     "end_time": "2025-04-24T17:28:35.117674Z",
     "start_time": "2025-04-24T17:28:25.868202Z"
    }
   },
   "cell_type": "code",
   "source": [
    "import numpy as np\n",
    "import pandas as pd\n",
    "import torch\n",
    "from cvxpy import transpose\n",
    "from matplotlib.testing import set_reproducibility_for_testing\n",
    "from torch.nn.functional import mse_loss\n",
    "from sklearn.datasets import load_svmlight_file\n",
    "from referencing.retrieval import to_cached_resource\n",
    "import matplotlib.pyplot as plt\n",
    "from tqdm import tqdm\n",
    "\n",
    "\n",
    "torch.manual_seed(42)"
   ],
   "id": "7a282161eb201965",
   "outputs": [
    {
     "data": {
      "text/plain": [
       "<torch._C.Generator at 0x7fbc393c7ed0>"
      ]
     },
     "execution_count": 1,
     "metadata": {},
     "output_type": "execute_result"
    }
   ],
   "execution_count": 1
  },
  {
   "metadata": {},
   "cell_type": "markdown",
   "source": "### Инициализация классов для создания структуры распеределенного обучения",
   "id": "692caffce4eaa4d6"
  },
  {
   "metadata": {
    "id": "e781570b5de23e81",
    "ExecuteTime": {
     "end_time": "2025-04-24T17:28:35.940882Z",
     "start_time": "2025-04-24T17:28:35.914719Z"
    }
   },
   "cell_type": "code",
   "source": [
    "def default_reg(weights, lamb=0.01):\n",
    "    return lamb * torch.sum(torch.pow(weights, 2))\n",
    "\n",
    "def loss(x, b):\n",
    "  return 1 / 2 * torch.sum(torch.pow(x - b, 2))\n",
    "\n",
    "\n",
    "class BorderNode:\n",
    "    def __init__(self, weights: torch.tensor, F: torch.tensor, reg_func=default_reg):\n",
    "        self.weights = weights.detach().clone().requires_grad_()\n",
    "        self.reg_func = reg_func\n",
    "        self.F = F\n",
    "        self.features_dim = F.shape[1]\n",
    "\n",
    "    def request_from_central_node(self, y: torch.tensor, transpose=False):\n",
    "        if transpose:\n",
    "            return self.F.t() @ y\n",
    "        return self.F @ y\n",
    "\n",
    "    def return_grad(self, weights):\n",
    "        weights_copied = weights.detach().clone()\n",
    "        weights_copied.requires_grad_(True)\n",
    "        reg = self.reg_func(weights_copied)\n",
    "        grad_weights, = torch.autograd.grad(reg, weights_copied)\n",
    "        return grad_weights\n",
    "\n",
    "    def set_weights(self, w):\n",
    "        self.weights = w.detach().clone().requires_grad_()\n",
    "\n",
    "\n",
    "class CentralNode:\n",
    "    def __init__(self, child_nodes: list[BorderNode], objects_amount: int, labels: torch.tensor):\n",
    "        assert objects_amount == labels.shape[0], \"Amount of samples in dataset must be equal to labels size\"\n",
    "\n",
    "        self.objects_amount = objects_amount\n",
    "        self.child_nodes = child_nodes\n",
    "        self.dims = [node.features_dim for node in child_nodes]  # + [self.objects_amount]\n",
    "\n",
    "        torch.manual_seed(42)\n",
    "\n",
    "        self.x = [\n",
    "            torch.rand(dim) for dim in dims\n",
    "        ]\n",
    "\n",
    "        self.labels = labels\n",
    "        self.n = len(child_nodes)\n",
    "\n",
    "        for i, child_node in enumerate(self.child_nodes):\n",
    "            child_node.set_weights(self.x[i])\n",
    "\n",
    "    def get_grads(self, u):\n",
    "        grads = []\n",
    "        for i, border_node in enumerate(self.child_nodes):\n",
    "            grad = border_node.return_grad(u[i])\n",
    "            grads.append(grad)\n",
    "\n",
    "        return grads"
   ],
   "id": "e781570b5de23e81",
   "outputs": [],
   "execution_count": 2
  },
  {
   "metadata": {},
   "cell_type": "markdown",
   "source": "### Метод Linear Complexity SGD",
   "id": "d9c0be9748a5cbe3"
  },
  {
   "metadata": {
    "id": "47569c4c9191f397",
    "ExecuteTime": {
     "end_time": "2025-04-24T17:28:36.512909Z",
     "start_time": "2025-04-24T17:28:36.496136Z"
    }
   },
   "cell_type": "code",
   "source": [
    "class LiCoSGD:\n",
    "    def __init__(self, centr: CentralNode, loss_func, gamma, tau):\n",
    "        torch.manual_seed(42)  # Set the random seed\n",
    "        self.centr = centr\n",
    "        self.n = self.centr.n\n",
    "        self.u = self.centr.x + [torch.rand(self.centr.objects_amount)]\n",
    "        self.y = torch.rand(self.centr.objects_amount)\n",
    "        self.gamma = gamma\n",
    "        self.tau = tau\n",
    "        self.loss_func = loss_func\n",
    "\n",
    "        for i, child_node in enumerate(self.centr.child_nodes):\n",
    "            child_node.set_weights(self.centr.x[i])\n",
    "\n",
    "    def _get_z_grad(self, z):\n",
    "        z_copy = z.detach().clone()\n",
    "        z_copy.requires_grad_(True)\n",
    "        loss = self.loss_func(z_copy, self.centr.labels)\n",
    "        grad_z, = torch.autograd.grad(loss, z_copy)\n",
    "        return grad_z\n",
    "\n",
    "    def step(self):\n",
    "        x_grads = self.centr.get_grads(self.u)\n",
    "        z_grad = self._get_z_grad(self.u[self.n])\n",
    "        w = [self.u[i] - self.gamma * x_grads[i] for i in range(self.n)] + [self.u[self.n] - self.gamma * z_grad]\n",
    "\n",
    "        with torch.no_grad():\n",
    "            components = [border_node.request_from_central_node(self.y, transpose=True) for i, border_node in\n",
    "                          enumerate(self.centr.child_nodes)] + [-self.y]\n",
    "\n",
    "            vector = [w[i] - self.gamma * components[i] for i in range(len(w))]\n",
    "\n",
    "            l_multiplied_vectors = [\n",
    "                                       border_node.request_from_central_node(\n",
    "                                           vector[i])\n",
    "                                       for\n",
    "                                       i, border_node in enumerate(self.centr.child_nodes)\n",
    "                                   ] + [- vector[self.n]]\n",
    "\n",
    "            self.y = self.y + self.tau * torch.sum(torch.hstack([x.unsqueeze(1) for x in l_multiplied_vectors]), dim=1,\n",
    "                                                   keepdim=False)\n",
    "\n",
    "            components = [border_node.request_from_central_node(self.y, transpose=True) for i, border_node in\n",
    "                          enumerate(self.centr.child_nodes)] + [-self.y]\n",
    "\n",
    "            self.u = [w[i] - self.gamma * components[i] for i in range(len(w))]\n",
    "\n",
    "        for i, child_node in enumerate(self.centr.child_nodes):\n",
    "            child_node.set_weights(self.centr.x[i])\n",
    "\n",
    "    def predict(self):\n",
    "        with torch.no_grad():\n",
    "            weights = self.u[:self.n]\n",
    "\n",
    "            ans = torch.zeros(self.centr.objects_amount, dtype=torch.float32)\n",
    "            for i in range(self.n):\n",
    "                ans += self.centr.child_nodes[i].request_from_central_node(weights[i])\n",
    "\n",
    "        return ans\n",
    "\n"
   ],
   "id": "47569c4c9191f397",
   "outputs": [],
   "execution_count": 3
  },
  {
   "metadata": {},
   "cell_type": "markdown",
   "source": "### Метод Extra Gradient VFL",
   "id": "24fb6871786669fc"
  },
  {
   "metadata": {
    "id": "655ee78a45b1ad48",
    "ExecuteTime": {
     "end_time": "2025-04-24T17:28:37.410161Z",
     "start_time": "2025-04-24T17:28:37.388107Z"
    }
   },
   "cell_type": "code",
   "source": [
    "class EGVFL:\n",
    "    def __init__(self, centr: CentralNode, loss_func, gamma):\n",
    "        torch.manual_seed(42)\n",
    "        self.centr = centr\n",
    "        self.n = self.centr.n\n",
    "        self.x = self.centr.x\n",
    "        self.z = torch.rand(self.centr.objects_amount)\n",
    "        self.y = torch.rand(self.centr.objects_amount)\n",
    "        self.gamma = gamma\n",
    "        self.loss_func = loss_func\n",
    "\n",
    "        # for i, child_node in enumerate(self.centr.child_nodes):\n",
    "        #     child_node.set_weights(self.x[i])\n",
    "\n",
    "    def _get_z_grad(self, z):\n",
    "        z_copy = z.detach().clone()\n",
    "        z_copy.requires_grad_(True)\n",
    "        loss = self.loss_func(z_copy, self.centr.labels)\n",
    "        grad_z, = torch.autograd.grad(loss, z_copy)\n",
    "        return grad_z\n",
    "\n",
    "    def step(self):\n",
    "        A_i_dot_x_ik = [border_node.request_from_central_node(self.x[i], transpose=False) for i, border_node in\n",
    "                        enumerate(self.centr.child_nodes)]\n",
    "        A_iT_dot_y_k = [border_node.request_from_central_node(self.y, transpose=True) for i, border_node in\n",
    "                        enumerate(self.centr.child_nodes)]\n",
    "\n",
    "        x_half = [\n",
    "            self.x[i] - self.gamma * (A_iT_dot_y_k[i] + border_node.return_grad(self.x[i]))\n",
    "            for i, border_node in enumerate(self.centr.child_nodes)\n",
    "        ]\n",
    "\n",
    "        # print(x_half)\n",
    "        # x_half hadn't pushed to border\n",
    "\n",
    "        z_half = self.z - self.gamma * (self._get_z_grad(self.z) - self.y)\n",
    "\n",
    "        y_half = self.y + self.gamma * (torch.sum(torch.vstack(A_i_dot_x_ik), dim=-2) - z_half)\n",
    "\n",
    "        A_i_dot_x_half_ik1 = [border_node.request_from_central_node(x_half[i], transpose=False) for i, border_node in\n",
    "                              enumerate(self.centr.child_nodes)]\n",
    "        # uses x_half without pushing\n",
    "        A_iT_dot_y_half_ik1 = [border_node.request_from_central_node(y_half, transpose=True) for i, border_node in\n",
    "                               enumerate(self.centr.child_nodes)]\n",
    "\n",
    "        # different grad need x_half, kostil method\n",
    "        x_new = [self.x[i] - self.gamma * (A_iT_dot_y_half_ik1[i] + border_node.return_grad(weights=x_half[i])) for\n",
    "                 i, border_node in enumerate(self.centr.child_nodes)]\n",
    "\n",
    "        z_new = self.z - self.gamma * (self._get_z_grad(z_half) - y_half)\n",
    "\n",
    "        y_new = self.y + self.gamma * (torch.sum(torch.vstack(A_i_dot_x_half_ik1), dim=-2) - z_half)\n",
    "\n",
    "        # for i, border_node in enumerate(self.centr.child_nodes):\n",
    "        #     border_node.set_weights(x_new[i])\n",
    "\n",
    "        self.x = x_new\n",
    "\n",
    "        self.z = z_new\n",
    "\n",
    "        self.y = y_new\n",
    "\n",
    "    def predict(self):\n",
    "        with torch.no_grad():\n",
    "            weights = self.x\n",
    "            ans = torch.zeros(self.centr.objects_amount, dtype=torch.float32)\n",
    "            for i in range(self.n):\n",
    "                ans += self.centr.child_nodes[i].request_from_central_node(weights[i])\n",
    "\n",
    "        return ans"
   ],
   "id": "655ee78a45b1ad48",
   "outputs": [],
   "execution_count": 4
  },
  {
   "metadata": {
    "id": "e31e04199a4619e1"
   },
   "cell_type": "markdown",
   "source": "#### Проверка сходимости алгоритма на рандомном датасете",
   "id": "e31e04199a4619e1"
  },
  {
   "metadata": {
    "id": "d9e192460e9f41e8",
    "ExecuteTime": {
     "end_time": "2025-04-24T17:28:37.562898Z",
     "start_time": "2025-04-24T17:28:37.532237Z"
    }
   },
   "cell_type": "code",
   "source": [
    "m = 70\n",
    "dims = [3, 2, 5, 10]\n",
    "n = len(dims)\n",
    "d = sum(dims)\n",
    "W = []\n",
    "F = []\n",
    "torch.manual_seed(42)\n",
    "ys = torch.rand(m)\n",
    "for i in range(n):\n",
    "    F.append(torch.rand(size=(m, dims[i])))\n",
    "    W.append(torch.rand(dims[i]))\n",
    "\n",
    "border_nodes = []\n",
    "for i in range(n):\n",
    "    border_nodes.append(BorderNode(W[i], F[i]))\n",
    "\n",
    "centr = CentralNode(border_nodes, m, ys)"
   ],
   "id": "d9e192460e9f41e8",
   "outputs": [],
   "execution_count": 5
  },
  {
   "metadata": {},
   "cell_type": "markdown",
   "source": "#### Проверка корректности step",
   "id": "bb9154a0e5fc80eb"
  },
  {
   "metadata": {
    "id": "33191cc5e8b7231d",
    "ExecuteTime": {
     "end_time": "2025-04-24T17:28:37.714387Z",
     "start_time": "2025-04-24T17:28:37.674546Z"
    }
   },
   "cell_type": "code",
   "source": [
    "algo = LiCoSGD(centr, mse_loss, gamma=0.25, tau=0.000001)\n",
    "algo.step()\n",
    "algo = EGVFL(centr, mse_loss, gamma=0.00001)\n",
    "algo.step()"
   ],
   "id": "33191cc5e8b7231d",
   "outputs": [],
   "execution_count": 6
  },
  {
   "metadata": {},
   "cell_type": "markdown",
   "source": "### Обучение на датасете \"Mushrooms\"",
   "id": "317cf4449abba88b"
  },
  {
   "metadata": {
    "id": "196344b5fe0af195",
    "ExecuteTime": {
     "end_time": "2025-04-24T17:30:11.174372Z",
     "start_time": "2025-04-24T17:30:10.871207Z"
    }
   },
   "cell_type": "code",
   "source": [
    "dataset = 'data/mushrooms.txt'\n",
    "data = load_svmlight_file(dataset)"
   ],
   "id": "196344b5fe0af195",
   "outputs": [],
   "execution_count": 8
  },
  {
   "metadata": {
    "id": "1d8767cbb8398f28",
    "ExecuteTime": {
     "end_time": "2025-04-24T17:30:12.487786Z",
     "start_time": "2025-04-24T17:30:12.449107Z"
    }
   },
   "cell_type": "code",
   "source": [
    "X, y = data[0].toarray(), data[1]"
   ],
   "id": "1d8767cbb8398f28",
   "outputs": [],
   "execution_count": 9
  },
  {
   "metadata": {
    "id": "92807f1302f2d2b1",
    "ExecuteTime": {
     "end_time": "2025-04-24T17:30:13.667947Z",
     "start_time": "2025-04-24T17:30:13.585486Z"
    }
   },
   "cell_type": "code",
   "source": [
    "m = X.shape[0]\n",
    "n = 4\n",
    "dims = [X.shape[1] // n for i in range(n)]\n",
    "d = sum(dims)\n",
    "W = []\n",
    "F = []\n",
    "ys = torch.tensor(y, dtype=torch.float32)\n",
    "torch.manual_seed(42)\n",
    "\n",
    "for i in range(n):\n",
    "    F.append(torch.tensor(X[:, i * dims[i]: (i + 1) * dims[i]], dtype=torch.float32))\n",
    "    W.append(torch.rand(dims[i]))\n",
    "\n",
    "border_nodes = []\n",
    "for i in range(n):\n",
    "    border_nodes.append(BorderNode(W[i], F[i]))\n",
    "\n",
    "centr = CentralNode(border_nodes, m, ys)"
   ],
   "id": "92807f1302f2d2b1",
   "outputs": [],
   "execution_count": 10
  },
  {
   "metadata": {},
   "cell_type": "markdown",
   "source": "### Создание графиков для сравнения сходимости методов",
   "id": "571b08507801e0ea"
  },
  {
   "metadata": {
    "id": "bfcbe23024f0cdae",
    "outputId": "403dc121-9d40-4835-8458-deacfff262ba",
    "colab": {
     "base_uri": "https://localhost:8080/"
    },
    "ExecuteTime": {
     "end_time": "2025-04-24T17:33:13.148770Z",
     "start_time": "2025-04-24T17:31:11.657167Z"
    }
   },
   "cell_type": "code",
   "source": [
    "epoches = 10000\n",
    "batch_size = 1\n",
    "\n",
    "losses_lico = []\n",
    "losses_egvfl = []\n",
    "\n",
    "algo_lico = LiCoSGD(centr, loss, gamma=0.3, tau=0.00005)\n",
    "losses_lico.append(mse_loss(algo_lico.predict(), centr.labels))\n",
    "for epoch in tqdm(range(epoches)):\n",
    "    avg_loss = 0.0\n",
    "    for batch in range(batch_size):\n",
    "        algo_lico.step()\n",
    "        avg_loss += mse_loss(algo_lico.predict(), centr.labels).item()\n",
    "    avg_loss /= batch_size\n",
    "    losses_lico.append(avg_loss)\n",
    "# print(centr.x)\n",
    "algo_egvfl = EGVFL(centr, loss, gamma=0.0017247366914323688)\n",
    "losses_egvfl.append(mse_loss(algo_egvfl.predict(), centr.labels))\n",
    "for epoch in tqdm(range(epoches)):\n",
    "    avg_loss = 0.0\n",
    "    for batch in range(batch_size):\n",
    "        algo_egvfl.step()\n",
    "        avg_loss += mse_loss(algo_egvfl.predict(), centr.labels).item()\n",
    "    avg_loss /= batch_size\n",
    "    losses_egvfl.append(avg_loss)\n",
    "# print(centr.x)\n",
    "# loasses_lico[-1]"
   ],
   "id": "bfcbe23024f0cdae",
   "outputs": [
    {
     "name": "stderr",
     "output_type": "stream",
     "text": [
      "100%|██████████| 10000/10000 [00:54<00:00, 182.13it/s]\n",
      "100%|██████████| 10000/10000 [01:05<00:00, 151.91it/s]\n"
     ]
    }
   ],
   "execution_count": 11
  },
  {
   "metadata": {
    "id": "55b5c4ed67d6a244",
    "outputId": "4eaa1691-07f2-4ff7-8258-2f0424a49113",
    "colab": {
     "base_uri": "https://localhost:8080/",
     "height": 564
    },
    "ExecuteTime": {
     "end_time": "2025-04-24T17:33:22.411488Z",
     "start_time": "2025-04-24T17:33:21.037743Z"
    }
   },
   "cell_type": "code",
   "source": [
    "skipped = 0\n",
    "\n",
    "plt.figure(figsize=(10, 6))\n",
    "plt.yscale(\"log\")\n",
    "plt.plot(range((skipped + 1) * batch_size, (epoches + 1 + 1) * batch_size, batch_size), losses_lico[skipped:], label=\"LiCoSGD Loss\")\n",
    "plt.plot(range((skipped + 1) * batch_size, (epoches + 1 + 1) * batch_size, batch_size), losses_egvfl[skipped:], label=\"EGVFL Loss\")\n",
    "plt.xlabel(\"Epoch\")\n",
    "plt.ylabel(\"Loss\")\n",
    "plt.title(f\"Loss Comparison Between LiCoSGD and EGVFL\")\n",
    "plt.legend()\n",
    "plt.grid()\n",
    "plt.show()"
   ],
   "id": "55b5c4ed67d6a244",
   "outputs": [
    {
     "data": {
      "text/plain": [
       "<Figure size 1000x600 with 1 Axes>"
      ],
      "image/png": "[encoded data removed]"
     },
     "metadata": {},
     "output_type": "display_data"
    }
   ],
   "execution_count": 12
  },
  {
   "metadata": {},
   "cell_type": "code",
   "outputs": [],
   "execution_count": null,
   "source": "",
   "id": "89d4cb9cc00a28bd"
  }
 ],
 "metadata": {
  "kernelspec": {
   "display_name": "Python 3",
   "language": "python",
   "name": "python3"
  },
  "language_info": {
   "codemirror_mode": {
    "name": "ipython",
    "version": 2
   },
   "file_extension": ".py",
   "mimetype": "text/x-python",
   "name": "python",
   "nbconvert_exporter": "python",
   "pygments_lexer": "ipython2",
   "version": "2.7.6"
  },
  "colab": {
   "provenance": []
  }
 },
 "nbformat": 4,
 "nbformat_minor": 5
}
